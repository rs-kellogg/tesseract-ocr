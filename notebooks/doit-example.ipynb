{
 "cells": [
  {
   "cell_type": "code",
   "execution_count": 1,
   "metadata": {},
   "outputs": [],
   "source": [
    "def task_imports():\n",
    "    \"\"\"find imports from a python module\"\"\"\n",
    "    for name, module in PKG_MODULES.by_name.items():\n",
    "        yield {\n",
    "            'name': name,\n",
    "            'file_dep': [module.path],\n",
    "            'actions': [(get_imports, (PKG_MODULES, module.path))],\n",
    "        }\n",
    "\n",
    "def task_dot():\n",
    "    \"\"\"generate a graphviz's dot graph from module imports\"\"\"\n",
    "    return {\n",
    "        'targets': ['requests.dot'],\n",
    "        'actions': [module_to_dot],\n",
    "        'getargs': {'imports': ('imports', 'modules')},\n",
    "        'clean': True,\n",
    "    }\n",
    "\n",
    "def task_draw():\n",
    "    \"\"\"generate image from a dot file\"\"\"\n",
    "    return {\n",
    "        'file_dep': ['requests.dot'],\n",
    "        'targets': ['requests.png'],\n",
    "        'actions': ['dot -Tpng %(dependencies)s -o %(targets)s'],\n",
    "        'clean': True,\n",
    "    }"
   ]
  },
  {
   "cell_type": "code",
   "execution_count": null,
   "metadata": {},
   "outputs": [],
   "source": []
  }
 ],
 "metadata": {
  "kernelspec": {
   "display_name": "Python 3",
   "language": "python",
   "name": "python3"
  },
  "language_info": {
   "codemirror_mode": {
    "name": "ipython",
    "version": 3
   },
   "file_extension": ".py",
   "mimetype": "text/x-python",
   "name": "python",
   "nbconvert_exporter": "python",
   "pygments_lexer": "ipython3",
   "version": "3.8.5"
  }
 },
 "nbformat": 4,
 "nbformat_minor": 4
}
